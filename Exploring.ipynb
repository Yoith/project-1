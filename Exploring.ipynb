{
 "cells": [
  {
   "cell_type": "code",
   "execution_count": 79,
   "id": "13ddcebb",
   "metadata": {},
   "outputs": [],
   "source": [
    "import seaborn as sns\n",
    "import matplotlib.pyplot as plt\n",
    "import pandas as pd\n",
    "import numpy as np"
   ]
  },
  {
   "cell_type": "code",
   "execution_count": 220,
   "id": "90d5dc9d",
   "metadata": {
    "scrolled": false
   },
   "outputs": [
    {
     "data": {
      "text/html": [
       "<div>\n",
       "<style scoped>\n",
       "    .dataframe tbody tr th:only-of-type {\n",
       "        vertical-align: middle;\n",
       "    }\n",
       "\n",
       "    .dataframe tbody tr th {\n",
       "        vertical-align: top;\n",
       "    }\n",
       "\n",
       "    .dataframe thead th {\n",
       "        text-align: right;\n",
       "    }\n",
       "</style>\n",
       "<table border=\"1\" class=\"dataframe\">\n",
       "  <thead>\n",
       "    <tr style=\"text-align: right;\">\n",
       "      <th></th>\n",
       "      <th>Case Number</th>\n",
       "      <th>Date</th>\n",
       "      <th>Year</th>\n",
       "      <th>Type</th>\n",
       "      <th>Country</th>\n",
       "      <th>Area</th>\n",
       "      <th>Location</th>\n",
       "      <th>Activity</th>\n",
       "      <th>Name</th>\n",
       "      <th>Sex</th>\n",
       "      <th>...</th>\n",
       "      <th>Species</th>\n",
       "      <th>Investigator or Source</th>\n",
       "      <th>pdf</th>\n",
       "      <th>href formula</th>\n",
       "      <th>href</th>\n",
       "      <th>Case Number.1</th>\n",
       "      <th>Case Number.2</th>\n",
       "      <th>original order</th>\n",
       "      <th>Unnamed: 22</th>\n",
       "      <th>Unnamed: 23</th>\n",
       "    </tr>\n",
       "  </thead>\n",
       "  <tbody>\n",
       "    <tr>\n",
       "      <th>0</th>\n",
       "      <td>2018.06.25</td>\n",
       "      <td>25-Jun-2018</td>\n",
       "      <td>2018.0</td>\n",
       "      <td>Boating</td>\n",
       "      <td>USA</td>\n",
       "      <td>California</td>\n",
       "      <td>Oceanside, San Diego County</td>\n",
       "      <td>Paddling</td>\n",
       "      <td>Julie Wolfe</td>\n",
       "      <td>F</td>\n",
       "      <td>...</td>\n",
       "      <td>White shark</td>\n",
       "      <td>R. Collier, GSAF</td>\n",
       "      <td>2018.06.25-Wolfe.pdf</td>\n",
       "      <td>http://sharkattackfile.net/spreadsheets/pdf_di...</td>\n",
       "      <td>http://sharkattackfile.net/spreadsheets/pdf_di...</td>\n",
       "      <td>2018.06.25</td>\n",
       "      <td>2018.06.25</td>\n",
       "      <td>6303.0</td>\n",
       "      <td>NaN</td>\n",
       "      <td>NaN</td>\n",
       "    </tr>\n",
       "    <tr>\n",
       "      <th>1</th>\n",
       "      <td>2018.06.18</td>\n",
       "      <td>18-Jun-2018</td>\n",
       "      <td>2018.0</td>\n",
       "      <td>Unprovoked</td>\n",
       "      <td>USA</td>\n",
       "      <td>Georgia</td>\n",
       "      <td>St. Simon Island, Glynn County</td>\n",
       "      <td>Standing</td>\n",
       "      <td>Adyson McNeely</td>\n",
       "      <td>F</td>\n",
       "      <td>...</td>\n",
       "      <td>NaN</td>\n",
       "      <td>K.McMurray, TrackingSharks.com</td>\n",
       "      <td>2018.06.18-McNeely.pdf</td>\n",
       "      <td>http://sharkattackfile.net/spreadsheets/pdf_di...</td>\n",
       "      <td>http://sharkattackfile.net/spreadsheets/pdf_di...</td>\n",
       "      <td>2018.06.18</td>\n",
       "      <td>2018.06.18</td>\n",
       "      <td>6302.0</td>\n",
       "      <td>NaN</td>\n",
       "      <td>NaN</td>\n",
       "    </tr>\n",
       "    <tr>\n",
       "      <th>2</th>\n",
       "      <td>2018.06.09</td>\n",
       "      <td>09-Jun-2018</td>\n",
       "      <td>2018.0</td>\n",
       "      <td>Invalid</td>\n",
       "      <td>USA</td>\n",
       "      <td>Hawaii</td>\n",
       "      <td>Habush, Oahu</td>\n",
       "      <td>Surfing</td>\n",
       "      <td>John Denges</td>\n",
       "      <td>M</td>\n",
       "      <td>...</td>\n",
       "      <td>NaN</td>\n",
       "      <td>K.McMurray, TrackingSharks.com</td>\n",
       "      <td>2018.06.09-Denges.pdf</td>\n",
       "      <td>http://sharkattackfile.net/spreadsheets/pdf_di...</td>\n",
       "      <td>http://sharkattackfile.net/spreadsheets/pdf_di...</td>\n",
       "      <td>2018.06.09</td>\n",
       "      <td>2018.06.09</td>\n",
       "      <td>6301.0</td>\n",
       "      <td>NaN</td>\n",
       "      <td>NaN</td>\n",
       "    </tr>\n",
       "    <tr>\n",
       "      <th>3</th>\n",
       "      <td>2018.06.08</td>\n",
       "      <td>08-Jun-2018</td>\n",
       "      <td>2018.0</td>\n",
       "      <td>Unprovoked</td>\n",
       "      <td>AUSTRALIA</td>\n",
       "      <td>New South Wales</td>\n",
       "      <td>Arrawarra Headland</td>\n",
       "      <td>Surfing</td>\n",
       "      <td>male</td>\n",
       "      <td>M</td>\n",
       "      <td>...</td>\n",
       "      <td>2 m shark</td>\n",
       "      <td>B. Myatt, GSAF</td>\n",
       "      <td>2018.06.08-Arrawarra.pdf</td>\n",
       "      <td>http://sharkattackfile.net/spreadsheets/pdf_di...</td>\n",
       "      <td>http://sharkattackfile.net/spreadsheets/pdf_di...</td>\n",
       "      <td>2018.06.08</td>\n",
       "      <td>2018.06.08</td>\n",
       "      <td>6300.0</td>\n",
       "      <td>NaN</td>\n",
       "      <td>NaN</td>\n",
       "    </tr>\n",
       "    <tr>\n",
       "      <th>4</th>\n",
       "      <td>2018.06.04</td>\n",
       "      <td>04-Jun-2018</td>\n",
       "      <td>2018.0</td>\n",
       "      <td>Provoked</td>\n",
       "      <td>MEXICO</td>\n",
       "      <td>Colima</td>\n",
       "      <td>La Ticla</td>\n",
       "      <td>Free diving</td>\n",
       "      <td>Gustavo Ramos</td>\n",
       "      <td>M</td>\n",
       "      <td>...</td>\n",
       "      <td>Tiger shark, 3m</td>\n",
       "      <td>A .Kipper</td>\n",
       "      <td>2018.06.04-Ramos.pdf</td>\n",
       "      <td>http://sharkattackfile.net/spreadsheets/pdf_di...</td>\n",
       "      <td>http://sharkattackfile.net/spreadsheets/pdf_di...</td>\n",
       "      <td>2018.06.04</td>\n",
       "      <td>2018.06.04</td>\n",
       "      <td>6299.0</td>\n",
       "      <td>NaN</td>\n",
       "      <td>NaN</td>\n",
       "    </tr>\n",
       "    <tr>\n",
       "      <th>...</th>\n",
       "      <td>...</td>\n",
       "      <td>...</td>\n",
       "      <td>...</td>\n",
       "      <td>...</td>\n",
       "      <td>...</td>\n",
       "      <td>...</td>\n",
       "      <td>...</td>\n",
       "      <td>...</td>\n",
       "      <td>...</td>\n",
       "      <td>...</td>\n",
       "      <td>...</td>\n",
       "      <td>...</td>\n",
       "      <td>...</td>\n",
       "      <td>...</td>\n",
       "      <td>...</td>\n",
       "      <td>...</td>\n",
       "      <td>...</td>\n",
       "      <td>...</td>\n",
       "      <td>...</td>\n",
       "      <td>...</td>\n",
       "      <td>...</td>\n",
       "    </tr>\n",
       "    <tr>\n",
       "      <th>25718</th>\n",
       "      <td>NaN</td>\n",
       "      <td>NaN</td>\n",
       "      <td>NaN</td>\n",
       "      <td>NaN</td>\n",
       "      <td>NaN</td>\n",
       "      <td>NaN</td>\n",
       "      <td>NaN</td>\n",
       "      <td>NaN</td>\n",
       "      <td>NaN</td>\n",
       "      <td>NaN</td>\n",
       "      <td>...</td>\n",
       "      <td>NaN</td>\n",
       "      <td>NaN</td>\n",
       "      <td>NaN</td>\n",
       "      <td>NaN</td>\n",
       "      <td>NaN</td>\n",
       "      <td>NaN</td>\n",
       "      <td>NaN</td>\n",
       "      <td>NaN</td>\n",
       "      <td>NaN</td>\n",
       "      <td>NaN</td>\n",
       "    </tr>\n",
       "    <tr>\n",
       "      <th>25719</th>\n",
       "      <td>NaN</td>\n",
       "      <td>NaN</td>\n",
       "      <td>NaN</td>\n",
       "      <td>NaN</td>\n",
       "      <td>NaN</td>\n",
       "      <td>NaN</td>\n",
       "      <td>NaN</td>\n",
       "      <td>NaN</td>\n",
       "      <td>NaN</td>\n",
       "      <td>NaN</td>\n",
       "      <td>...</td>\n",
       "      <td>NaN</td>\n",
       "      <td>NaN</td>\n",
       "      <td>NaN</td>\n",
       "      <td>NaN</td>\n",
       "      <td>NaN</td>\n",
       "      <td>NaN</td>\n",
       "      <td>NaN</td>\n",
       "      <td>NaN</td>\n",
       "      <td>NaN</td>\n",
       "      <td>NaN</td>\n",
       "    </tr>\n",
       "    <tr>\n",
       "      <th>25720</th>\n",
       "      <td>NaN</td>\n",
       "      <td>NaN</td>\n",
       "      <td>NaN</td>\n",
       "      <td>NaN</td>\n",
       "      <td>NaN</td>\n",
       "      <td>NaN</td>\n",
       "      <td>NaN</td>\n",
       "      <td>NaN</td>\n",
       "      <td>NaN</td>\n",
       "      <td>NaN</td>\n",
       "      <td>...</td>\n",
       "      <td>NaN</td>\n",
       "      <td>NaN</td>\n",
       "      <td>NaN</td>\n",
       "      <td>NaN</td>\n",
       "      <td>NaN</td>\n",
       "      <td>NaN</td>\n",
       "      <td>NaN</td>\n",
       "      <td>NaN</td>\n",
       "      <td>NaN</td>\n",
       "      <td>NaN</td>\n",
       "    </tr>\n",
       "    <tr>\n",
       "      <th>25721</th>\n",
       "      <td>NaN</td>\n",
       "      <td>NaN</td>\n",
       "      <td>NaN</td>\n",
       "      <td>NaN</td>\n",
       "      <td>NaN</td>\n",
       "      <td>NaN</td>\n",
       "      <td>NaN</td>\n",
       "      <td>NaN</td>\n",
       "      <td>NaN</td>\n",
       "      <td>NaN</td>\n",
       "      <td>...</td>\n",
       "      <td>NaN</td>\n",
       "      <td>NaN</td>\n",
       "      <td>NaN</td>\n",
       "      <td>NaN</td>\n",
       "      <td>NaN</td>\n",
       "      <td>NaN</td>\n",
       "      <td>NaN</td>\n",
       "      <td>NaN</td>\n",
       "      <td>NaN</td>\n",
       "      <td>NaN</td>\n",
       "    </tr>\n",
       "    <tr>\n",
       "      <th>25722</th>\n",
       "      <td>xx</td>\n",
       "      <td>NaN</td>\n",
       "      <td>NaN</td>\n",
       "      <td>NaN</td>\n",
       "      <td>NaN</td>\n",
       "      <td>NaN</td>\n",
       "      <td>NaN</td>\n",
       "      <td>NaN</td>\n",
       "      <td>NaN</td>\n",
       "      <td>NaN</td>\n",
       "      <td>...</td>\n",
       "      <td>NaN</td>\n",
       "      <td>NaN</td>\n",
       "      <td>NaN</td>\n",
       "      <td>NaN</td>\n",
       "      <td>NaN</td>\n",
       "      <td>NaN</td>\n",
       "      <td>NaN</td>\n",
       "      <td>NaN</td>\n",
       "      <td>NaN</td>\n",
       "      <td>NaN</td>\n",
       "    </tr>\n",
       "  </tbody>\n",
       "</table>\n",
       "<p>25723 rows × 24 columns</p>\n",
       "</div>"
      ],
      "text/plain": [
       "      Case Number         Date    Year        Type    Country  \\\n",
       "0      2018.06.25  25-Jun-2018  2018.0     Boating        USA   \n",
       "1      2018.06.18  18-Jun-2018  2018.0  Unprovoked        USA   \n",
       "2      2018.06.09  09-Jun-2018  2018.0     Invalid        USA   \n",
       "3      2018.06.08  08-Jun-2018  2018.0  Unprovoked  AUSTRALIA   \n",
       "4      2018.06.04  04-Jun-2018  2018.0    Provoked     MEXICO   \n",
       "...           ...          ...     ...         ...        ...   \n",
       "25718         NaN          NaN     NaN         NaN        NaN   \n",
       "25719         NaN          NaN     NaN         NaN        NaN   \n",
       "25720         NaN          NaN     NaN         NaN        NaN   \n",
       "25721         NaN          NaN     NaN         NaN        NaN   \n",
       "25722          xx          NaN     NaN         NaN        NaN   \n",
       "\n",
       "                  Area                        Location     Activity  \\\n",
       "0           California     Oceanside, San Diego County     Paddling   \n",
       "1              Georgia  St. Simon Island, Glynn County     Standing   \n",
       "2               Hawaii                    Habush, Oahu      Surfing   \n",
       "3      New South Wales              Arrawarra Headland      Surfing   \n",
       "4               Colima                        La Ticla  Free diving   \n",
       "...                ...                             ...          ...   \n",
       "25718              NaN                             NaN          NaN   \n",
       "25719              NaN                             NaN          NaN   \n",
       "25720              NaN                             NaN          NaN   \n",
       "25721              NaN                             NaN          NaN   \n",
       "25722              NaN                             NaN          NaN   \n",
       "\n",
       "                  Name Sex   ...         Species   \\\n",
       "0          Julie Wolfe    F  ...      White shark   \n",
       "1      Adyson McNeely     F  ...              NaN   \n",
       "2          John Denges    M  ...              NaN   \n",
       "3                 male    M  ...        2 m shark   \n",
       "4       Gustavo Ramos     M  ...  Tiger shark, 3m   \n",
       "...                ...  ...  ...              ...   \n",
       "25718              NaN  NaN  ...              NaN   \n",
       "25719              NaN  NaN  ...              NaN   \n",
       "25720              NaN  NaN  ...              NaN   \n",
       "25721              NaN  NaN  ...              NaN   \n",
       "25722              NaN  NaN  ...              NaN   \n",
       "\n",
       "               Investigator or Source                       pdf  \\\n",
       "0                    R. Collier, GSAF      2018.06.25-Wolfe.pdf   \n",
       "1      K.McMurray, TrackingSharks.com    2018.06.18-McNeely.pdf   \n",
       "2      K.McMurray, TrackingSharks.com     2018.06.09-Denges.pdf   \n",
       "3                      B. Myatt, GSAF  2018.06.08-Arrawarra.pdf   \n",
       "4                           A .Kipper      2018.06.04-Ramos.pdf   \n",
       "...                               ...                       ...   \n",
       "25718                             NaN                       NaN   \n",
       "25719                             NaN                       NaN   \n",
       "25720                             NaN                       NaN   \n",
       "25721                             NaN                       NaN   \n",
       "25722                             NaN                       NaN   \n",
       "\n",
       "                                            href formula  \\\n",
       "0      http://sharkattackfile.net/spreadsheets/pdf_di...   \n",
       "1      http://sharkattackfile.net/spreadsheets/pdf_di...   \n",
       "2      http://sharkattackfile.net/spreadsheets/pdf_di...   \n",
       "3      http://sharkattackfile.net/spreadsheets/pdf_di...   \n",
       "4      http://sharkattackfile.net/spreadsheets/pdf_di...   \n",
       "...                                                  ...   \n",
       "25718                                                NaN   \n",
       "25719                                                NaN   \n",
       "25720                                                NaN   \n",
       "25721                                                NaN   \n",
       "25722                                                NaN   \n",
       "\n",
       "                                                    href Case Number.1  \\\n",
       "0      http://sharkattackfile.net/spreadsheets/pdf_di...    2018.06.25   \n",
       "1      http://sharkattackfile.net/spreadsheets/pdf_di...    2018.06.18   \n",
       "2      http://sharkattackfile.net/spreadsheets/pdf_di...    2018.06.09   \n",
       "3      http://sharkattackfile.net/spreadsheets/pdf_di...    2018.06.08   \n",
       "4      http://sharkattackfile.net/spreadsheets/pdf_di...    2018.06.04   \n",
       "...                                                  ...           ...   \n",
       "25718                                                NaN           NaN   \n",
       "25719                                                NaN           NaN   \n",
       "25720                                                NaN           NaN   \n",
       "25721                                                NaN           NaN   \n",
       "25722                                                NaN           NaN   \n",
       "\n",
       "      Case Number.2 original order Unnamed: 22 Unnamed: 23  \n",
       "0        2018.06.25         6303.0         NaN         NaN  \n",
       "1        2018.06.18         6302.0         NaN         NaN  \n",
       "2        2018.06.09         6301.0         NaN         NaN  \n",
       "3        2018.06.08         6300.0         NaN         NaN  \n",
       "4        2018.06.04         6299.0         NaN         NaN  \n",
       "...             ...            ...         ...         ...  \n",
       "25718           NaN            NaN         NaN         NaN  \n",
       "25719           NaN            NaN         NaN         NaN  \n",
       "25720           NaN            NaN         NaN         NaN  \n",
       "25721           NaN            NaN         NaN         NaN  \n",
       "25722           NaN            NaN         NaN         NaN  \n",
       "\n",
       "[25723 rows x 24 columns]"
      ]
     },
     "execution_count": 220,
     "metadata": {},
     "output_type": "execute_result"
    }
   ],
   "source": [
    "sharks = pd.read_csv(\"data/attacks.csv\", encoding = 'ISO-8859-1')\n",
    "\n",
    "sharks"
   ]
  },
  {
   "cell_type": "markdown",
   "id": "016abfb4",
   "metadata": {},
   "source": [
    "## Sharks Information"
   ]
  },
  {
   "cell_type": "code",
   "execution_count": 221,
   "id": "667afa87",
   "metadata": {
    "scrolled": true
   },
   "outputs": [
    {
     "name": "stdout",
     "output_type": "stream",
     "text": [
      "<class 'pandas.core.frame.DataFrame'>\n",
      "RangeIndex: 25723 entries, 0 to 25722\n",
      "Data columns (total 24 columns):\n",
      " #   Column                  Non-Null Count  Dtype  \n",
      "---  ------                  --------------  -----  \n",
      " 0   Case Number             8702 non-null   object \n",
      " 1   Date                    6302 non-null   object \n",
      " 2   Year                    6300 non-null   float64\n",
      " 3   Type                    6298 non-null   object \n",
      " 4   Country                 6252 non-null   object \n",
      " 5   Area                    5847 non-null   object \n",
      " 6   Location                5762 non-null   object \n",
      " 7   Activity                5758 non-null   object \n",
      " 8   Name                    6092 non-null   object \n",
      " 9   Sex                     5737 non-null   object \n",
      " 10  Age                     3471 non-null   object \n",
      " 11  Injury                  6274 non-null   object \n",
      " 12  Fatal (Y/N)             5763 non-null   object \n",
      " 13  Time                    2948 non-null   object \n",
      " 14  Species                 3464 non-null   object \n",
      " 15  Investigator or Source  6285 non-null   object \n",
      " 16  pdf                     6302 non-null   object \n",
      " 17  href formula            6301 non-null   object \n",
      " 18  href                    6302 non-null   object \n",
      " 19  Case Number.1           6302 non-null   object \n",
      " 20  Case Number.2           6302 non-null   object \n",
      " 21  original order          6309 non-null   float64\n",
      " 22  Unnamed: 22             1 non-null      object \n",
      " 23  Unnamed: 23             2 non-null      object \n",
      "dtypes: float64(2), object(22)\n",
      "memory usage: 4.7+ MB\n"
     ]
    },
    {
     "data": {
      "text/plain": [
       "'Con esta función recibimos información sobre la data frame. \\nNúmero de entradas: 25723\\nNúmero de columnas: 24\\nNúmero de elementos nulos dependiendo de la columna\\nEl Data Type de la información en cada columna: float64(2), object(22)\\nMemory usage: 4.7+ MB\\n'"
      ]
     },
     "execution_count": 221,
     "metadata": {},
     "output_type": "execute_result"
    }
   ],
   "source": [
    "sharks.info()   \n",
    "\n",
    "\"\"\"Con esta función recibimos información sobre la data frame. \n",
    "Número de entradas: 25723\n",
    "Número de columnas: 24\n",
    "Número de elementos nulos dependiendo de la columna\n",
    "El Data Type de la información en cada columna: float64(2), object(22)\n",
    "Memory usage: 4.7+ MB\n",
    "\"\"\"\n"
   ]
  },
  {
   "cell_type": "markdown",
   "id": "d652db16",
   "metadata": {},
   "source": [
    "With this function, we receive information about the data frame.\n",
    "\n",
    "Range Index: 25723 entries, 0 to 25722\n",
    "\n",
    "Number of entries: 25723\n",
    "\n",
    "Number of columns: 24\n",
    "\n",
    "Number of null elements depending on the column\n",
    "\n",
    "The Data Type of the information in each column: float64(2), object(22)\n",
    "\n",
    "Memory usage: 4.7+ MB"
   ]
  },
  {
   "cell_type": "markdown",
   "id": "4aba2398",
   "metadata": {},
   "source": [
    "#### Number of rows"
   ]
  },
  {
   "cell_type": "code",
   "execution_count": 222,
   "id": "effe66a0",
   "metadata": {
    "scrolled": true
   },
   "outputs": [
    {
     "name": "stdout",
     "output_type": "stream",
     "text": [
      "The number of rows is 25723\n"
     ]
    }
   ],
   "source": [
    "n_rows = sharks.shape[0]\n",
    "\n",
    "print(f\"The number of rows is {n_rows}\")"
   ]
  },
  {
   "cell_type": "markdown",
   "id": "daa4cded",
   "metadata": {},
   "source": [
    "#### Number of columns"
   ]
  },
  {
   "cell_type": "code",
   "execution_count": 223,
   "id": "184108e4",
   "metadata": {},
   "outputs": [
    {
     "name": "stdout",
     "output_type": "stream",
     "text": [
      "The number of columns is 24\n"
     ]
    }
   ],
   "source": [
    "n_columns = sharks.shape[1]\n",
    "\n",
    "print(f\"The number of columns is {n_columns}\")"
   ]
  },
  {
   "cell_type": "markdown",
   "id": "af38e4f5",
   "metadata": {},
   "source": [
    "### Columns"
   ]
  },
  {
   "cell_type": "markdown",
   "id": "cea98c88",
   "metadata": {},
   "source": [
    "#### Modifying the columns names"
   ]
  },
  {
   "cell_type": "code",
   "execution_count": 224,
   "id": "4110278a",
   "metadata": {},
   "outputs": [
    {
     "data": {
      "text/plain": [
       "Index(['case_number', 'date', 'year', 'type', 'country', 'area', 'location',\n",
       "       'activity', 'name', 'sex_', 'age', 'injury', 'fatal_(y/n)', 'time',\n",
       "       'species_', 'investigator_or_source', 'pdf', 'href_formula', 'href',\n",
       "       'case_number.1', 'case_number.2', 'original_order', 'unnamed:_22',\n",
       "       'unnamed:_23'],\n",
       "      dtype='object')"
      ]
     },
     "execution_count": 224,
     "metadata": {},
     "output_type": "execute_result"
    }
   ],
   "source": [
    "sharks.columns = [i.lower().replace(\" \", \"_\").strip() for i in sharks.columns]\n",
    "\n",
    "# Modify the column names to give them a more readable and unified appearance. \n",
    "\n",
    "#This will be helpfull in the future, to search or change columns, or manipulate the information regarding columns\n",
    "\n",
    "sharks.columns # Now we can see the modified name of the columns"
   ]
  },
  {
   "cell_type": "markdown",
   "id": "486d0ed0",
   "metadata": {},
   "source": [
    "#### The amount of Null Values per column"
   ]
  },
  {
   "cell_type": "code",
   "execution_count": 225,
   "id": "03e7faaf",
   "metadata": {},
   "outputs": [
    {
     "data": {
      "text/plain": [
       "case_number               17021\n",
       "date                      19421\n",
       "year                      19423\n",
       "type                      19425\n",
       "country                   19471\n",
       "area                      19876\n",
       "location                  19961\n",
       "activity                  19965\n",
       "name                      19631\n",
       "sex_                      19986\n",
       "age                       22252\n",
       "injury                    19449\n",
       "fatal_(y/n)               19960\n",
       "time                      22775\n",
       "species_                  22259\n",
       "investigator_or_source    19438\n",
       "pdf                       19421\n",
       "href_formula              19422\n",
       "href                      19421\n",
       "case_number.1             19421\n",
       "case_number.2             19421\n",
       "original_order            19414\n",
       "unnamed:_22               25722\n",
       "unnamed:_23               25721\n",
       "dtype: int64"
      ]
     },
     "execution_count": 225,
     "metadata": {},
     "output_type": "execute_result"
    }
   ],
   "source": [
    "pd.isna(sharks).sum()  # The number is the amount of Null values in sharks"
   ]
  },
  {
   "cell_type": "markdown",
   "id": "bd5c6aeb",
   "metadata": {},
   "source": [
    "#### Not missing values per relevant column"
   ]
  },
  {
   "cell_type": "code",
   "execution_count": 226,
   "id": "a1cbf229",
   "metadata": {},
   "outputs": [
    {
     "data": {
      "text/html": [
       "<div>\n",
       "<style scoped>\n",
       "    .dataframe tbody tr th:only-of-type {\n",
       "        vertical-align: middle;\n",
       "    }\n",
       "\n",
       "    .dataframe tbody tr th {\n",
       "        vertical-align: top;\n",
       "    }\n",
       "\n",
       "    .dataframe thead th {\n",
       "        text-align: right;\n",
       "    }\n",
       "</style>\n",
       "<table border=\"1\" class=\"dataframe\">\n",
       "  <thead>\n",
       "    <tr style=\"text-align: right;\">\n",
       "      <th></th>\n",
       "      <th>fatal</th>\n",
       "    </tr>\n",
       "  </thead>\n",
       "  <tbody>\n",
       "    <tr>\n",
       "      <th>0</th>\n",
       "      <td>N</td>\n",
       "    </tr>\n",
       "    <tr>\n",
       "      <th>1</th>\n",
       "      <td>N</td>\n",
       "    </tr>\n",
       "    <tr>\n",
       "      <th>2</th>\n",
       "      <td>N</td>\n",
       "    </tr>\n",
       "    <tr>\n",
       "      <th>3</th>\n",
       "      <td>N</td>\n",
       "    </tr>\n",
       "    <tr>\n",
       "      <th>4</th>\n",
       "      <td>N</td>\n",
       "    </tr>\n",
       "    <tr>\n",
       "      <th>...</th>\n",
       "      <td>...</td>\n",
       "    </tr>\n",
       "    <tr>\n",
       "      <th>25718</th>\n",
       "      <td>NaN</td>\n",
       "    </tr>\n",
       "    <tr>\n",
       "      <th>25719</th>\n",
       "      <td>NaN</td>\n",
       "    </tr>\n",
       "    <tr>\n",
       "      <th>25720</th>\n",
       "      <td>NaN</td>\n",
       "    </tr>\n",
       "    <tr>\n",
       "      <th>25721</th>\n",
       "      <td>NaN</td>\n",
       "    </tr>\n",
       "    <tr>\n",
       "      <th>25722</th>\n",
       "      <td>NaN</td>\n",
       "    </tr>\n",
       "  </tbody>\n",
       "</table>\n",
       "<p>25723 rows × 1 columns</p>\n",
       "</div>"
      ],
      "text/plain": [
       "      fatal\n",
       "0         N\n",
       "1         N\n",
       "2         N\n",
       "3         N\n",
       "4         N\n",
       "...     ...\n",
       "25718   NaN\n",
       "25719   NaN\n",
       "25720   NaN\n",
       "25721   NaN\n",
       "25722   NaN\n",
       "\n",
       "[25723 rows x 1 columns]"
      ]
     },
     "execution_count": 226,
     "metadata": {},
     "output_type": "execute_result"
    }
   ],
   "source": [
    "sharks.rename(columns={'fatal_(y/n)': 'fatal'}, inplace= True) # changing the name of Fatal\n",
    "\n",
    "sharks[['fatal']] # checking if the change was done\n",
    "\n",
    "# I've been having problems with the name of this column so I'm using .rename() to make it simpler"
   ]
  },
  {
   "cell_type": "markdown",
   "id": "ffb81f70",
   "metadata": {},
   "source": [
    "### Checking the not missing values by Column"
   ]
  },
  {
   "cell_type": "code",
   "execution_count": 227,
   "id": "8d976b6e",
   "metadata": {
    "scrolled": false
   },
   "outputs": [
    {
     "data": {
      "text/plain": [
       "['year', 'country', 'sex_', 'type', 'activity', 'injury', 'fatal']"
      ]
     },
     "execution_count": 227,
     "metadata": {},
     "output_type": "execute_result"
    }
   ],
   "source": [
    "list_relevant_columns = [\"year\", \"country\", \"sex_\", \"type\", \"activity\", \"injury\", \"fatal\"] \n",
    "\n",
    "# I'm creating a variable with the list of the relevant columns to access easier to it in next cells\n",
    "\n",
    "list_relevant_columns"
   ]
  },
  {
   "cell_type": "markdown",
   "id": "a3cffdaa",
   "metadata": {},
   "source": [
    "#### Using a For Loop to access the not missing values in each relevant Column"
   ]
  },
  {
   "cell_type": "code",
   "execution_count": 228,
   "id": "4c799636",
   "metadata": {},
   "outputs": [
    {
     "name": "stdout",
     "output_type": "stream",
     "text": [
      "The number of not missing values per year is 6300\n",
      "The number of not missing values per country is 6252\n",
      "The number of not missing values per sex_ is 5737\n",
      "The number of not missing values per type is 6298\n",
      "The number of not missing values per activity is 5758\n",
      "The number of not missing values per injury is 6274\n",
      "The number of not missing values per fatal is 5763\n"
     ]
    }
   ],
   "source": [
    "# To reach the hypothesis I want to prove I want to have an idea of the relevant information that I have access in Sharks\n",
    "# So I'm going to check the total amount of not missing values in the columns\n",
    "\n",
    "notmissing_counts = sharks[list_relevant_columns].count() \n",
    "\n",
    "# I have created a variable \"notmissing_counts\" that will have all the counts from the relevant columns of Sharks\n",
    "\n",
    "for column, count in notmissing_counts.items():\n",
    "    print(f\"The number of not missing values per {column} is {count}\")\n",
    "    \n",
    "# With this for loop I'm iteratin all the items inside the variable \"notmissing_counts\" to reach the number of not missing values"
   ]
  },
  {
   "cell_type": "markdown",
   "id": "16c90e08",
   "metadata": {},
   "source": [
    "I can see an important difference between the relevant information (6300-5737) and the total entries (25723), that I will \n",
    "have to erase in the \"Cleaning\" part of the project"
   ]
  },
  {
   "cell_type": "markdown",
   "id": "b1b1c98b",
   "metadata": {},
   "source": [
    "### Different content per relevant Column"
   ]
  },
  {
   "cell_type": "code",
   "execution_count": 229,
   "id": "248578f2",
   "metadata": {},
   "outputs": [
    {
     "data": {
      "text/plain": [
       "['year', 'country', 'sex_', 'type', 'activity', 'injury', 'fatal']"
      ]
     },
     "execution_count": 229,
     "metadata": {},
     "output_type": "execute_result"
    }
   ],
   "source": [
    "list_relevant_columns = [\"year\", \"country\", \"sex_\", \"type\", \"activity\", \"injury\", \"age\", \"fatal\"] \n",
    "\n",
    "list_relevant_columns\n",
    "\n",
    "# Now I want to have an idea of the different possibilities of each relevant column.\n",
    "# For example how many different countries are in Sharks, and if they are correctly introduce"
   ]
  },
  {
   "cell_type": "markdown",
   "id": "4c2f0274",
   "metadata": {},
   "source": [
    "### Filter to know how many different entries per column and its length "
   ]
  },
  {
   "cell_type": "markdown",
   "id": "e027b55c",
   "metadata": {},
   "source": [
    "#### Different Unique values per Year"
   ]
  },
  {
   "cell_type": "code",
   "execution_count": 230,
   "id": "52be4035",
   "metadata": {},
   "outputs": [
    {
     "data": {
      "text/plain": [
       "array([2018., 2017.,   nan, 2016., 2015., 2014., 2013., 2012., 2011.,\n",
       "       2010., 2009., 2008., 2007., 2006., 2005., 2004., 2003., 2002.,\n",
       "       2001., 2000., 1999., 1998., 1997., 1996., 1995., 1984., 1994.,\n",
       "       1993., 1992., 1991., 1990., 1989., 1969., 1988., 1987., 1986.,\n",
       "       1985., 1983., 1982., 1981., 1980., 1979., 1978., 1977., 1976.,\n",
       "       1975., 1974., 1973., 1972., 1971., 1970., 1968., 1967., 1966.,\n",
       "       1965., 1964., 1963., 1962., 1961., 1960., 1959., 1958., 1957.,\n",
       "       1956., 1955., 1954., 1953., 1952., 1951., 1950., 1949., 1948.,\n",
       "       1848., 1947., 1946., 1945., 1944., 1943., 1942., 1941., 1940.,\n",
       "       1939., 1938., 1937., 1936., 1935., 1934., 1933., 1932., 1931.,\n",
       "       1930., 1929., 1928., 1927., 1926., 1925., 1924., 1923., 1922.,\n",
       "       1921., 1920., 1919., 1918., 1917., 1916., 1915., 1914., 1913.,\n",
       "       1912., 1911., 1910., 1909., 1908., 1907., 1906., 1905., 1904.,\n",
       "       1903., 1902., 1901., 1900., 1899., 1898., 1897., 1896., 1895.,\n",
       "       1894., 1893., 1892., 1891., 1890., 1889., 1888., 1887., 1886.,\n",
       "       1885., 1884., 1883., 1882., 1881., 1880., 1879., 1878., 1877.,\n",
       "       1876., 1875., 1874., 1873., 1872., 1871., 1870., 1869., 1868.,\n",
       "       1867., 1866., 1865., 1864., 1863., 1862., 1861., 1860., 1859.,\n",
       "       1858., 1857., 1856., 1855., 1853., 1852., 1851., 1850., 1849.,\n",
       "       1847., 1846., 1845., 1844., 1842., 1841., 1840., 1839., 1837.,\n",
       "       1836., 1835., 1834., 1832., 1831., 1830., 1829., 1828., 1827.,\n",
       "       1826., 1825., 1823., 1822., 1819., 1818., 1817., 1816., 1815.,\n",
       "       1812., 1811., 1810., 1808., 1807., 1805., 1804., 1803., 1802.,\n",
       "       1801., 1800., 1797., 1792., 1791., 1788., 1787., 1786., 1785.,\n",
       "       1784., 1783., 1780., 1779., 1776., 1771., 1767., 1764., 1758.,\n",
       "       1753., 1751., 1749., 1755., 1748., 1742., 1738., 1733., 1723.,\n",
       "       1721., 1703., 1700., 1642., 1638., 1637., 1617., 1595., 1580.,\n",
       "       1555., 1554., 1543.,  500.,   77.,    5.,    0.])"
      ]
     },
     "execution_count": 230,
     "metadata": {},
     "output_type": "execute_result"
    }
   ],
   "source": [
    "sharks[\"year\"].unique()\n",
    "\n",
    "# In this case we can see the unique results inside the column \"year\", using the function \".unique()\"\n",
    "# This will help me to know the extension of each posible information per column\n",
    "# The year column, covers from 2018 to maybe 1543, this inconsistence in the years, maybe will be a reason to \n",
    "# shorten the number of relevant years for the study\n",
    "# Googling about, this the first encounters with hawaian surfers were since 1778, so maybe it will be a first start to delete\n",
    "# I will have to transform the results into ints, not floats"
   ]
  },
  {
   "cell_type": "markdown",
   "id": "1039fcb3",
   "metadata": {},
   "source": [
    "#### Different Unique values per Country"
   ]
  },
  {
   "cell_type": "code",
   "execution_count": 231,
   "id": "972dd7b0",
   "metadata": {
    "scrolled": true
   },
   "outputs": [
    {
     "data": {
      "text/plain": [
       "array(['USA', 'AUSTRALIA', 'MEXICO', 'BRAZIL', 'ENGLAND', 'SOUTH AFRICA',\n",
       "       'THAILAND', 'COSTA RICA', 'MALDIVES', 'BAHAMAS', 'NEW CALEDONIA',\n",
       "       'ECUADOR', 'MALAYSIA', 'LIBYA', nan, 'CUBA', 'MAURITIUS',\n",
       "       'NEW ZEALAND', 'SPAIN', 'SAMOA', 'SOLOMON ISLANDS', 'JAPAN',\n",
       "       'EGYPT', 'ST HELENA, British overseas territory', 'COMOROS',\n",
       "       'REUNION', 'FRENCH POLYNESIA', 'UNITED KINGDOM',\n",
       "       'UNITED ARAB EMIRATES', 'PHILIPPINES', 'INDONESIA', 'CHINA',\n",
       "       'COLUMBIA', 'CAPE VERDE', 'Fiji', 'DOMINICAN REPUBLIC',\n",
       "       'CAYMAN ISLANDS', 'ARUBA', 'MOZAMBIQUE', 'FIJI', 'PUERTO RICO',\n",
       "       'ITALY', 'ATLANTIC OCEAN', 'GREECE', 'ST. MARTIN', 'FRANCE',\n",
       "       'PAPUA NEW GUINEA', 'TRINIDAD & TOBAGO', 'KIRIBATI', 'ISRAEL',\n",
       "       'DIEGO GARCIA', 'TAIWAN', 'JAMAICA', 'PALESTINIAN TERRITORIES',\n",
       "       'GUAM', 'SEYCHELLES', 'BELIZE', 'NIGERIA', 'TONGA', 'SCOTLAND',\n",
       "       'CANADA', 'CROATIA', 'SAUDI ARABIA', 'CHILE', 'ANTIGUA', 'KENYA',\n",
       "       'RUSSIA', 'TURKS & CAICOS', 'UNITED ARAB EMIRATES (UAE)', 'AZORES',\n",
       "       'SOUTH KOREA', 'MALTA', 'VIETNAM', 'MADAGASCAR', 'PANAMA',\n",
       "       'SOMALIA', 'NEVIS', 'BRITISH VIRGIN ISLANDS', 'NORWAY', 'SENEGAL',\n",
       "       'YEMEN', 'GULF OF ADEN', 'Sierra Leone', 'ST. MAARTIN',\n",
       "       'GRAND CAYMAN', 'Seychelles', 'LIBERIA', 'VANUATU', 'MEXICO ',\n",
       "       'HONDURAS', 'VENEZUELA', 'SRI LANKA', ' TONGA', 'URUGUAY', 'INDIA',\n",
       "       'MICRONESIA', 'CARIBBEAN SEA', 'OKINAWA', 'TANZANIA',\n",
       "       'MARSHALL ISLANDS', 'EGYPT / ISRAEL', 'NORTHERN ARABIAN SEA',\n",
       "       'HONG KONG', 'EL SALVADOR', 'ANGOLA', 'BERMUDA', 'MONTENEGRO',\n",
       "       'IRAN', 'TUNISIA', 'NAMIBIA', 'NORTH ATLANTIC OCEAN', 'PORTUGAL',\n",
       "       'SOUTH CHINA SEA', 'BANGLADESH', 'PALAU', 'WESTERN SAMOA',\n",
       "       'PACIFIC OCEAN ', 'BRITISH ISLES', 'GRENADA', 'IRAQ', 'TURKEY',\n",
       "       'SINGAPORE', 'NEW BRITAIN', 'SUDAN', 'JOHNSTON ISLAND',\n",
       "       'SOUTH PACIFIC OCEAN', 'NEW GUINEA', 'RED SEA',\n",
       "       'NORTH PACIFIC OCEAN', 'FEDERATED STATES OF MICRONESIA',\n",
       "       'MID ATLANTIC OCEAN', 'ADMIRALTY ISLANDS', 'BRITISH WEST INDIES',\n",
       "       'SOUTH ATLANTIC OCEAN', 'PERSIAN GULF', 'RED SEA / INDIAN OCEAN',\n",
       "       'PACIFIC OCEAN', 'NORTH SEA', 'NICARAGUA ', 'MALDIVE ISLANDS',\n",
       "       'AMERICAN SAMOA', 'ANDAMAN / NICOBAR ISLANDAS', 'GABON', 'MAYOTTE',\n",
       "       'NORTH ATLANTIC OCEAN ', 'THE BALKANS', 'SUDAN?', 'ARGENTINA',\n",
       "       'MARTINIQUE', 'INDIAN OCEAN', 'GUATEMALA', 'NETHERLANDS ANTILLES',\n",
       "       'NORTHERN MARIANA ISLANDS', 'IRAN / IRAQ', 'JAVA', 'SIERRA LEONE',\n",
       "       ' PHILIPPINES', 'NICARAGUA', 'CENTRAL PACIFIC',\n",
       "       'SOLOMON ISLANDS / VANUATU', 'SOUTHWEST PACIFIC OCEAN',\n",
       "       'BAY OF BENGAL', 'MID-PACIFC OCEAN', 'SLOVENIA', 'CURACAO',\n",
       "       'ICELAND', 'ITALY / CROATIA', 'BARBADOS', 'MONACO', 'GUYANA',\n",
       "       'HAITI', 'SAN DOMINGO', 'IRELAND', 'KUWAIT', 'YEMEN ',\n",
       "       'REUNION ISLAND', 'FALKLAND ISLANDS', 'CRETE', 'CYPRUS', 'EGYPT ',\n",
       "       'WEST INDIES', 'BURMA', 'LEBANON', 'PARAGUAY',\n",
       "       'BRITISH NEW GUINEA', 'CEYLON', 'OCEAN', 'GEORGIA', 'SYRIA',\n",
       "       'TUVALU', 'INDIAN OCEAN?', 'GUINEA', 'ANDAMAN ISLANDS',\n",
       "       'EQUATORIAL GUINEA / CAMEROON', 'COOK ISLANDS', 'TOBAGO', 'PERU',\n",
       "       'AFRICA', 'ALGERIA', 'Coast of AFRICA', 'TASMAN SEA', 'GHANA',\n",
       "       'GREENLAND', 'MEDITERRANEAN SEA', 'SWEDEN', 'ROATAN',\n",
       "       'Between PORTUGAL & INDIA', 'DJIBOUTI', 'BAHREIN', 'KOREA',\n",
       "       'RED SEA?', 'ASIA?', 'CEYLON (SRI LANKA)'], dtype=object)"
      ]
     },
     "execution_count": 231,
     "metadata": {},
     "output_type": "execute_result"
    }
   ],
   "source": [
    "sharks[\"country\"].unique()\n",
    "\n",
    "# With this result I can see that there is a mix of Countries, seas, \n",
    "# even cities, so I will have to clean it in the Cleaning step"
   ]
  },
  {
   "cell_type": "markdown",
   "id": "d6758b97",
   "metadata": {},
   "source": [
    "#### Length of results by Country"
   ]
  },
  {
   "cell_type": "code",
   "execution_count": 232,
   "id": "a572820c",
   "metadata": {},
   "outputs": [
    {
     "data": {
      "text/plain": [
       "213"
      ]
     },
     "execution_count": 232,
     "metadata": {},
     "output_type": "execute_result"
    }
   ],
   "source": [
    "len(sharks[\"country\"].unique())\n",
    "\n"
   ]
  },
  {
   "cell_type": "markdown",
   "id": "b664e041",
   "metadata": {},
   "source": [
    "##### Sorting the results by name"
   ]
  },
  {
   "cell_type": "code",
   "execution_count": 233,
   "id": "5034cdb4",
   "metadata": {},
   "outputs": [
    {
     "ename": "TypeError",
     "evalue": "'<' not supported between instances of 'float' and 'str'",
     "output_type": "error",
     "traceback": [
      "\u001b[1;31m---------------------------------------------------------------------------\u001b[0m",
      "\u001b[1;31mTypeError\u001b[0m                                 Traceback (most recent call last)",
      "Cell \u001b[1;32mIn[233], line 5\u001b[0m\n\u001b[0;32m      1\u001b[0m \u001b[38;5;66;03m# Now I want to see if there are orthographic mistakes or duplicate countries, so I'm going to try sort the results by name\u001b[39;00m\n\u001b[0;32m      3\u001b[0m unique_countries \u001b[38;5;241m=\u001b[39m sharks[\u001b[38;5;124m\"\u001b[39m\u001b[38;5;124mcountry\u001b[39m\u001b[38;5;124m\"\u001b[39m]\u001b[38;5;241m.\u001b[39munique()\u001b[38;5;241m.\u001b[39mtolist() \u001b[38;5;66;03m# First I'm going to create a variable to transform it into a list\u001b[39;00m\n\u001b[1;32m----> 5\u001b[0m unique_countries_sorted \u001b[38;5;241m=\u001b[39m \u001b[38;5;28msorted\u001b[39m(unique_countries) \u001b[38;5;66;03m# Then using the sorted() function, order them by name\u001b[39;00m\n\u001b[0;32m      7\u001b[0m unique_countries_sorted\n",
      "\u001b[1;31mTypeError\u001b[0m: '<' not supported between instances of 'float' and 'str'"
     ]
    }
   ],
   "source": [
    "# Now I want to see if there are orthographic mistakes or duplicate countries, so I'm going to try sort the results by name\n",
    "\n",
    "unique_countries = sharks[\"country\"].unique().tolist() # First I'm going to create a variable to transform it into a list\n",
    "\n",
    "unique_countries_sorted = sorted(unique_countries) # Then using the sorted() function, order them by name\n",
    "\n",
    "unique_countries_sorted\n"
   ]
  },
  {
   "cell_type": "code",
   "execution_count": 234,
   "id": "990ab0df",
   "metadata": {},
   "outputs": [
    {
     "data": {
      "text/plain": [
       "[' PHILIPPINES',\n",
       " ' TONGA',\n",
       " 'ADMIRALTY ISLANDS',\n",
       " 'AFRICA',\n",
       " 'ALGERIA',\n",
       " 'AMERICAN SAMOA',\n",
       " 'ANDAMAN / NICOBAR ISLANDAS',\n",
       " 'ANDAMAN ISLANDS',\n",
       " 'ANGOLA',\n",
       " 'ANTIGUA',\n",
       " 'ARGENTINA',\n",
       " 'ARUBA',\n",
       " 'ASIA?',\n",
       " 'ATLANTIC OCEAN',\n",
       " 'AUSTRALIA',\n",
       " 'AZORES',\n",
       " 'BAHAMAS',\n",
       " 'BAHREIN',\n",
       " 'BANGLADESH',\n",
       " 'BARBADOS',\n",
       " 'BAY OF BENGAL',\n",
       " 'BELIZE',\n",
       " 'BERMUDA',\n",
       " 'BRAZIL',\n",
       " 'BRITISH ISLES',\n",
       " 'BRITISH NEW GUINEA',\n",
       " 'BRITISH VIRGIN ISLANDS',\n",
       " 'BRITISH WEST INDIES',\n",
       " 'BURMA',\n",
       " 'Between PORTUGAL & INDIA',\n",
       " 'CANADA',\n",
       " 'CAPE VERDE',\n",
       " 'CARIBBEAN SEA',\n",
       " 'CAYMAN ISLANDS',\n",
       " 'CENTRAL PACIFIC',\n",
       " 'CEYLON',\n",
       " 'CEYLON (SRI LANKA)',\n",
       " 'CHILE',\n",
       " 'CHINA',\n",
       " 'COLUMBIA',\n",
       " 'COMOROS',\n",
       " 'COOK ISLANDS',\n",
       " 'COSTA RICA',\n",
       " 'CRETE',\n",
       " 'CROATIA',\n",
       " 'CUBA',\n",
       " 'CURACAO',\n",
       " 'CYPRUS',\n",
       " 'Coast of AFRICA',\n",
       " 'DIEGO GARCIA',\n",
       " 'DJIBOUTI',\n",
       " 'DOMINICAN REPUBLIC',\n",
       " 'ECUADOR',\n",
       " 'EGYPT',\n",
       " 'EGYPT ',\n",
       " 'EGYPT / ISRAEL',\n",
       " 'EL SALVADOR',\n",
       " 'ENGLAND',\n",
       " 'EQUATORIAL GUINEA / CAMEROON',\n",
       " 'FALKLAND ISLANDS',\n",
       " 'FEDERATED STATES OF MICRONESIA',\n",
       " 'FIJI',\n",
       " 'FRANCE',\n",
       " 'FRENCH POLYNESIA',\n",
       " 'Fiji',\n",
       " 'GABON',\n",
       " 'GEORGIA',\n",
       " 'GHANA',\n",
       " 'GRAND CAYMAN',\n",
       " 'GREECE',\n",
       " 'GREENLAND',\n",
       " 'GRENADA',\n",
       " 'GUAM',\n",
       " 'GUATEMALA',\n",
       " 'GUINEA',\n",
       " 'GULF OF ADEN',\n",
       " 'GUYANA',\n",
       " 'HAITI',\n",
       " 'HONDURAS',\n",
       " 'HONG KONG',\n",
       " 'ICELAND',\n",
       " 'INDIA',\n",
       " 'INDIAN OCEAN',\n",
       " 'INDIAN OCEAN?',\n",
       " 'INDONESIA',\n",
       " 'IRAN',\n",
       " 'IRAN / IRAQ',\n",
       " 'IRAQ',\n",
       " 'IRELAND',\n",
       " 'ISRAEL',\n",
       " 'ITALY',\n",
       " 'ITALY / CROATIA',\n",
       " 'JAMAICA',\n",
       " 'JAPAN',\n",
       " 'JAVA',\n",
       " 'JOHNSTON ISLAND',\n",
       " 'KENYA',\n",
       " 'KIRIBATI',\n",
       " 'KOREA',\n",
       " 'KUWAIT',\n",
       " 'LEBANON',\n",
       " 'LIBERIA',\n",
       " 'LIBYA',\n",
       " 'MADAGASCAR',\n",
       " 'MALAYSIA',\n",
       " 'MALDIVE ISLANDS',\n",
       " 'MALDIVES',\n",
       " 'MALTA',\n",
       " 'MARSHALL ISLANDS',\n",
       " 'MARTINIQUE',\n",
       " 'MAURITIUS',\n",
       " 'MAYOTTE',\n",
       " 'MEDITERRANEAN SEA',\n",
       " 'MEXICO',\n",
       " 'MEXICO ',\n",
       " 'MICRONESIA',\n",
       " 'MID ATLANTIC OCEAN',\n",
       " 'MID-PACIFC OCEAN',\n",
       " 'MONACO',\n",
       " 'MONTENEGRO',\n",
       " 'MOZAMBIQUE',\n",
       " 'NAMIBIA',\n",
       " 'NETHERLANDS ANTILLES',\n",
       " 'NEVIS',\n",
       " 'NEW BRITAIN',\n",
       " 'NEW CALEDONIA',\n",
       " 'NEW GUINEA',\n",
       " 'NEW ZEALAND',\n",
       " 'NICARAGUA',\n",
       " 'NICARAGUA ',\n",
       " 'NIGERIA',\n",
       " 'NORTH ATLANTIC OCEAN',\n",
       " 'NORTH ATLANTIC OCEAN ',\n",
       " 'NORTH PACIFIC OCEAN',\n",
       " 'NORTH SEA',\n",
       " 'NORTHERN ARABIAN SEA',\n",
       " 'NORTHERN MARIANA ISLANDS',\n",
       " 'NORWAY',\n",
       " 'OCEAN',\n",
       " 'OKINAWA',\n",
       " 'PACIFIC OCEAN',\n",
       " 'PACIFIC OCEAN ',\n",
       " 'PALAU',\n",
       " 'PALESTINIAN TERRITORIES',\n",
       " 'PANAMA',\n",
       " 'PAPUA NEW GUINEA',\n",
       " 'PARAGUAY',\n",
       " 'PERSIAN GULF',\n",
       " 'PERU',\n",
       " 'PHILIPPINES',\n",
       " 'PORTUGAL',\n",
       " 'PUERTO RICO',\n",
       " 'RED SEA',\n",
       " 'RED SEA / INDIAN OCEAN',\n",
       " 'RED SEA?',\n",
       " 'REUNION',\n",
       " 'REUNION ISLAND',\n",
       " 'ROATAN',\n",
       " 'RUSSIA',\n",
       " 'SAMOA',\n",
       " 'SAN DOMINGO',\n",
       " 'SAUDI ARABIA',\n",
       " 'SCOTLAND',\n",
       " 'SENEGAL',\n",
       " 'SEYCHELLES',\n",
       " 'SIERRA LEONE',\n",
       " 'SINGAPORE',\n",
       " 'SLOVENIA',\n",
       " 'SOLOMON ISLANDS',\n",
       " 'SOLOMON ISLANDS / VANUATU',\n",
       " 'SOMALIA',\n",
       " 'SOUTH AFRICA',\n",
       " 'SOUTH ATLANTIC OCEAN',\n",
       " 'SOUTH CHINA SEA',\n",
       " 'SOUTH KOREA',\n",
       " 'SOUTH PACIFIC OCEAN',\n",
       " 'SOUTHWEST PACIFIC OCEAN',\n",
       " 'SPAIN',\n",
       " 'SRI LANKA',\n",
       " 'ST HELENA, British overseas territory',\n",
       " 'ST. MAARTIN',\n",
       " 'ST. MARTIN',\n",
       " 'SUDAN',\n",
       " 'SUDAN?',\n",
       " 'SWEDEN',\n",
       " 'SYRIA',\n",
       " 'Seychelles',\n",
       " 'Sierra Leone',\n",
       " 'TAIWAN',\n",
       " 'TANZANIA',\n",
       " 'TASMAN SEA',\n",
       " 'THAILAND',\n",
       " 'THE BALKANS',\n",
       " 'TOBAGO',\n",
       " 'TONGA',\n",
       " 'TRINIDAD & TOBAGO',\n",
       " 'TUNISIA',\n",
       " 'TURKEY',\n",
       " 'TURKS & CAICOS',\n",
       " 'TUVALU',\n",
       " 'UNITED ARAB EMIRATES',\n",
       " 'UNITED ARAB EMIRATES (UAE)',\n",
       " 'UNITED KINGDOM',\n",
       " 'URUGUAY',\n",
       " 'USA',\n",
       " 'VANUATU',\n",
       " 'VENEZUELA',\n",
       " 'VIETNAM',\n",
       " 'WEST INDIES',\n",
       " 'WESTERN SAMOA',\n",
       " 'YEMEN',\n",
       " 'YEMEN ']"
      ]
     },
     "execution_count": 234,
     "metadata": {},
     "output_type": "execute_result"
    }
   ],
   "source": [
    "# After search about this error I have found that I need to take out the NaN results, so in this way I can, finally, \n",
    "# transform and sort the list, to see the problems more accurately\n",
    "\n",
    "unique_countries = sharks[\"country\"].dropna().unique().tolist()\n",
    "\n",
    "unique_countries_sorted = sorted(unique_countries)\n",
    "\n",
    "unique_countries_sorted\n",
    "\n",
    "# I can see that many of the duplicates come from a space after and before the name of the country, so will have to clean them\n",
    "# I'm deciding that I'll use the 5-10 countries with more shark attacks\n",
    "# I'll have to erase continents?"
   ]
  },
  {
   "cell_type": "markdown",
   "id": "330728cc",
   "metadata": {},
   "source": [
    "##### Finding the top 10 Countries by Shark Attacks"
   ]
  },
  {
   "cell_type": "code",
   "execution_count": 235,
   "id": "95adcb39",
   "metadata": {},
   "outputs": [
    {
     "name": "stdout",
     "output_type": "stream",
     "text": [
      "country\n",
      "USA                 2229\n",
      "AUSTRALIA           1338\n",
      "SOUTH AFRICA         579\n",
      "PAPUA NEW GUINEA     134\n",
      "NEW ZEALAND          128\n",
      "BRAZIL               112\n",
      "BAHAMAS              109\n",
      "MEXICO                89\n",
      "ITALY                 71\n",
      "FIJI                  62\n",
      "Name: count, dtype: int64\n"
     ]
    }
   ],
   "source": [
    "top_countries = sharks[\"country\"].value_counts().head(10)\n",
    "\n",
    "print(top_countries)\n",
    "\n",
    "# For this I'm using la función \".value_counts()\" over the column \"Country\" to see how many entries has, and then taking the 10 \n",
    "# first\n",
    "# Being this 10 the countries with more attacks and with a really big difference bettween them, this result support my Hypothesis\n",
    "# that the USA is the country with most attack, being almost double\n",
    "# I'll focus the changes in this 10 countries."
   ]
  },
  {
   "cell_type": "markdown",
   "id": "c35c1230",
   "metadata": {},
   "source": [
    "#### Different Unique values per Sex"
   ]
  },
  {
   "cell_type": "code",
   "execution_count": 236,
   "id": "2575de08",
   "metadata": {},
   "outputs": [
    {
     "data": {
      "text/plain": [
       "array(['F', 'M', nan, 'M ', 'lli', 'N', '.'], dtype=object)"
      ]
     },
     "execution_count": 236,
     "metadata": {},
     "output_type": "execute_result"
    }
   ],
   "source": [
    "sharks[\"sex_\"].unique()\n",
    "\n",
    "# After this search I can see that the entries are not only \"Female\" and  \"Male\", so I will have to clean this in the next step\n",
    "# I'll take as valed F and M\n",
    "# The rest, I'll unify all of them in a third category named 'unknown' "
   ]
  },
  {
   "cell_type": "markdown",
   "id": "73677649",
   "metadata": {},
   "source": [
    "##### Finding the most attacked sex"
   ]
  },
  {
   "cell_type": "code",
   "execution_count": 237,
   "id": "d5eef763",
   "metadata": {},
   "outputs": [
    {
     "data": {
      "text/plain": [
       "sex_\n",
       "M      5094\n",
       "F       637\n",
       "M         2\n",
       "N         2\n",
       "lli       1\n",
       ".         1\n",
       "Name: count, dtype: int64"
      ]
     },
     "execution_count": 237,
     "metadata": {},
     "output_type": "execute_result"
    }
   ],
   "source": [
    "count_sex = sharks[\"sex_\"].value_counts()\n",
    "\n",
    "count_sex\n",
    "\n",
    "# Again this count of entries support the idea that men are more attacked than women with a huuuge difference"
   ]
  },
  {
   "cell_type": "markdown",
   "id": "b79ae079",
   "metadata": {},
   "source": [
    "#### Different Unique values per Type of attack"
   ]
  },
  {
   "cell_type": "code",
   "execution_count": 240,
   "id": "a4da7ee8",
   "metadata": {},
   "outputs": [
    {
     "data": {
      "text/plain": [
       "array(['Boating', 'Unprovoked', 'Invalid', 'Provoked', 'Questionable',\n",
       "       'Sea Disaster', nan, 'Boat', 'Boatomg'], dtype=object)"
      ]
     },
     "execution_count": 240,
     "metadata": {},
     "output_type": "execute_result"
    }
   ],
   "source": [
    "sharks[\"type\"].unique()\n",
    "\n",
    "# In this case same I'll unify all of them in three categories\n",
    "# \"Provoked\", \"Unprovoked\" and \"Invalid\"\n"
   ]
  },
  {
   "cell_type": "markdown",
   "id": "583b68ff",
   "metadata": {},
   "source": [
    "##### Finding the most common type of attack."
   ]
  },
  {
   "cell_type": "code",
   "execution_count": 241,
   "id": "e1fd7dd8",
   "metadata": {},
   "outputs": [
    {
     "data": {
      "text/plain": [
       "type\n",
       "Unprovoked      4595\n",
       "Provoked         574\n",
       "Invalid          547\n",
       "Sea Disaster     239\n",
       "Boating          203\n",
       "Boat             137\n",
       "Questionable       2\n",
       "Boatomg            1\n",
       "Name: count, dtype: int64"
      ]
     },
     "execution_count": 241,
     "metadata": {},
     "output_type": "execute_result"
    }
   ],
   "source": [
    "count_type = sharks[\"type\"].value_counts()\n",
    "\n",
    "count_type"
   ]
  },
  {
   "cell_type": "markdown",
   "id": "c8736f8d",
   "metadata": {},
   "source": [
    "#### Different Unique values per Activity"
   ]
  },
  {
   "cell_type": "code",
   "execution_count": 242,
   "id": "88ecb628",
   "metadata": {},
   "outputs": [
    {
     "data": {
      "text/plain": [
       "array(['Paddling', 'Standing', 'Surfing', ...,\n",
       "       'Crew swimming alongside their anchored ship',\n",
       "       '4 men were bathing', 'Wreck of  large double sailing canoe'],\n",
       "      dtype=object)"
      ]
     },
     "execution_count": 242,
     "metadata": {},
     "output_type": "execute_result"
    }
   ],
   "source": [
    "sharks[\"activity\"].unique()\n",
    "\n"
   ]
  },
  {
   "cell_type": "code",
   "execution_count": 243,
   "id": "217cede8",
   "metadata": {},
   "outputs": [
    {
     "data": {
      "text/plain": [
       "activity\n",
       "Surfing            971\n",
       "Swimming           869\n",
       "Fishing            431\n",
       "Spearfishing       333\n",
       "Bathing            162\n",
       "Wading             149\n",
       "Diving             127\n",
       "Standing            99\n",
       "Snorkeling          89\n",
       "Scuba diving        76\n",
       "Body boarding       61\n",
       "Body surfing        49\n",
       "Swimming            47\n",
       "Kayaking            33\n",
       "Treading water      32\n",
       "Pearl diving        32\n",
       "Fell overboard      32\n",
       "Free diving         29\n",
       "Boogie boarding     29\n",
       "Windsurfing         19\n",
       "Walking             17\n",
       "Boogie Boarding     16\n",
       "Shark fishing       15\n",
       "Floating            14\n",
       "Fishing             13\n",
       "Canoeing            13\n",
       "Surf skiing         12\n",
       "Surf fishing        12\n",
       "Surf-skiing         12\n",
       "Rowing              12\n",
       "Name: count, dtype: int64"
      ]
     },
     "execution_count": 243,
     "metadata": {},
     "output_type": "execute_result"
    }
   ],
   "source": [
    "count_activity = sharks[\"activity\"].value_counts().head(30)\n",
    "\n",
    "count_activity\n",
    "\n",
    "# Here I've chosen 30 results because I can see that there are duplicates with names similar but not exactly the same\n",
    "# So in the Cleaning step I'll have to modify them to add results under an unified option.\n",
    "# For example: Unify all the surfing results as \"surf skiing\", \"surf fishing\", under the same name \"surfing\"\n",
    "# And reduce all the entries in the 10 most common activities\n"
   ]
  },
  {
   "cell_type": "markdown",
   "id": "ed5eed80",
   "metadata": {},
   "source": [
    "#### Different Unique values per Injury"
   ]
  },
  {
   "cell_type": "code",
   "execution_count": 244,
   "id": "f2ad64ed",
   "metadata": {
    "scrolled": false
   },
   "outputs": [
    {
     "data": {
      "text/plain": [
       "array(['No injury to occupant, outrigger canoe and paddle damaged',\n",
       "       'Minor injury to left thigh',\n",
       "       'Injury to left lower leg from surfboard skeg', ...,\n",
       "       'FATAL, leg stripped of flesh  ',\n",
       "       'FATAL, knocked overboard by tail of shark & carried off by shark ',\n",
       "       'FATAL. \"Shark bit him in half, carrying away the lower extremities\" '],\n",
       "      dtype=object)"
      ]
     },
     "execution_count": 244,
     "metadata": {},
     "output_type": "execute_result"
    }
   ],
   "source": [
    "sharks[\"injury\"].unique()"
   ]
  },
  {
   "cell_type": "code",
   "execution_count": 245,
   "id": "7f29b14b",
   "metadata": {},
   "outputs": [
    {
     "data": {
      "text/plain": [
       "3738"
      ]
     },
     "execution_count": 245,
     "metadata": {},
     "output_type": "execute_result"
    }
   ],
   "source": [
    "len(sharks[\"injury\"].unique())"
   ]
  },
  {
   "cell_type": "code",
   "execution_count": 246,
   "id": "c8fc30ae",
   "metadata": {},
   "outputs": [
    {
     "data": {
      "text/plain": [
       "injury\n",
       "FATAL                          802\n",
       "Survived                        97\n",
       "Foot bitten                     87\n",
       "No injury                       82\n",
       "Leg bitten                      72\n",
       "Left foot bitten                50\n",
       "No details                      43\n",
       "Right foot bitten               39\n",
       "No injury, board bitten         31\n",
       "Hand bitten                     29\n",
       "Thigh bitten                    27\n",
       "FATAL, body not recovered       24\n",
       "Calf bitten                     22\n",
       "Minor injury                    22\n",
       "Foot lacerated                  21\n",
       "Right leg bitten                20\n",
       "Lacerations to foot             20\n",
       "Arm bitten                      20\n",
       "Lacerations to right foot       18\n",
       "Lacerations to left foot        18\n",
       "Ankle bitten                    17\n",
       "Right calf bitten               16\n",
       "Heel bitten                     14\n",
       "No injury to occupants          14\n",
       "Minor injuries                  14\n",
       "No injury, surfboard bitten     13\n",
       "Left leg bitten                 13\n",
       "Foot severed                    13\n",
       "Left arm bitten                 13\n",
       "Leg injured                     13\n",
       "Name: count, dtype: int64"
      ]
     },
     "execution_count": 246,
     "metadata": {},
     "output_type": "execute_result"
    }
   ],
   "source": [
    "count_injury = sharks[\"injury\"].value_counts().head(30)\n",
    "\n",
    "count_injury\n",
    "\n",
    "# The results in this case are too messy and caotic, in around 6000 entries there are around 3000, all different including\n",
    "# leg bitten, what foot was bitten. I think is too chaotic and too specific for the kind of information I want to demonstrate\n",
    "# so finally I'll take out this column aswell."
   ]
  },
  {
   "cell_type": "markdown",
   "id": "9447de22",
   "metadata": {},
   "source": [
    "#### Different Unique values per Age"
   ]
  },
  {
   "cell_type": "code",
   "execution_count": 248,
   "id": "7b3a6a01",
   "metadata": {},
   "outputs": [
    {
     "data": {
      "text/plain": [
       "array(['57', '11', '48', nan, '18', '52', '15', '12', '32', '10', '21',\n",
       "       '34', '30', '60', '33', '29', '54', '41', '37', '56', '19', '25',\n",
       "       '69', '38', '55', '35', '46', '45', '14', '40s', '28', '20', '24',\n",
       "       '26', '49', '22', '7', '31', '17', '40', '13', '42', '3', '8',\n",
       "       '50', '16', '82', '73', '20s', '68', '51', '39', '58', 'Teen',\n",
       "       '47', '61', '65', '36', '66', '43', '60s', '9', '72', '59', '6',\n",
       "       '27', '64', '23', '71', '44', '62', '63', '70', '18 months', '53',\n",
       "       '30s', '50s', 'teen', '77', '74', '28 & 26', '5', '86', '18 or 20',\n",
       "       '12 or 13', '46 & 34', '28, 23 & 30', 'Teens', '36 & 26',\n",
       "       '8 or 10', '84', '\\xa0 ', ' ', '30 or 36', '6½', '21 & ?', '75',\n",
       "       '33 or 37', 'mid-30s', '23 & 20', ' 30', '7      &    31', ' 28',\n",
       "       '20?', \"60's\", '32 & 30', '16 to 18', '87', '67', 'Elderly',\n",
       "       'mid-20s', 'Ca. 33', '74 ', '45 ', '21 or 26', '20 ', '>50',\n",
       "       '18 to 22', 'adult', '9 & 12', '? & 19', '9 months', '25 to 35',\n",
       "       '23 & 26', '1', '(adult)', '33 & 37', '25 or 28',\n",
       "       '37, 67, 35, 27,  ? & 27', '21, 34,24 & 35', '30 & 32', '50 & 30',\n",
       "       '17 & 35', 'X', '\"middle-age\"', '13 or 18', '34 & 19', '33 & 26',\n",
       "       '2 to 3 months', 'MAKE LINE GREEN', ' 43', '81', '\"young\"',\n",
       "       '7 or 8', '78', '17 & 16', 'F', 'Both 11', '9 or 10', 'young',\n",
       "       '36 & 23', '  ', 'A.M.', '?    &   14', '10 or 12', '31 or 33',\n",
       "       '2½', '13 or 14'], dtype=object)"
      ]
     },
     "execution_count": 248,
     "metadata": {},
     "output_type": "execute_result"
    }
   ],
   "source": [
    "sharks[\"age\"].unique()\n",
    "\n",
    "# Here I can see that the results are not clear sometimes, being ranges not defined, I'm interested in the numerical value\n",
    "# so I'll try to find the mean and apply it "
   ]
  },
  {
   "cell_type": "markdown",
   "id": "c1eb2072",
   "metadata": {},
   "source": [
    "#### Different Unique values per Fatal"
   ]
  },
  {
   "cell_type": "code",
   "execution_count": 174,
   "id": "2c7b7150",
   "metadata": {},
   "outputs": [
    {
     "data": {
      "text/plain": [
       "array(['N', 'Y', nan, 'M', 'UNKNOWN', '2017', ' N', 'N ', 'y'],\n",
       "      dtype=object)"
      ]
     },
     "execution_count": 174,
     "metadata": {},
     "output_type": "execute_result"
    }
   ],
   "source": [
    "sharks[\"fatal\"].unique()\n",
    "\n",
    "# I can see that there is more than two introduce options, so I'll modify them to unify it in three categories\n",
    "# \"Y\", \"N\" and Unknown"
   ]
  },
  {
   "cell_type": "code",
   "execution_count": 247,
   "id": "a94e124a",
   "metadata": {},
   "outputs": [
    {
     "data": {
      "text/plain": [
       "fatal\n",
       "N          4293\n",
       "Y          1388\n",
       "UNKNOWN      71\n",
       " N            7\n",
       "M             1\n",
       "2017          1\n",
       "N             1\n",
       "y             1\n",
       "Name: count, dtype: int64"
      ]
     },
     "execution_count": 247,
     "metadata": {},
     "output_type": "execute_result"
    }
   ],
   "source": [
    "count_fatal = sharks[\"fatal\"].value_counts()\n",
    "\n",
    "count_fatal\n",
    "\n",
    "# Anyways, before the modification, we can see that there is a prevalence of non-fatal attacks"
   ]
  }
 ],
 "metadata": {
  "kernelspec": {
   "display_name": "ironhack",
   "language": "python",
   "name": "ironhack"
  },
  "language_info": {
   "codemirror_mode": {
    "name": "ipython",
    "version": 3
   },
   "file_extension": ".py",
   "mimetype": "text/x-python",
   "name": "python",
   "nbconvert_exporter": "python",
   "pygments_lexer": "ipython3",
   "version": "3.11.5"
  }
 },
 "nbformat": 4,
 "nbformat_minor": 5
}
